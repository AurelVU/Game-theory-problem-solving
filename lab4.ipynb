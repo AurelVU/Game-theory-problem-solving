{
 "cells": [
  {
   "cell_type": "markdown",
   "source": [
    "# Добавление необходимой библиотеки"
   ],
   "metadata": {
    "collapsed": false
   }
  },
  {
   "cell_type": "code",
   "execution_count": 55,
   "outputs": [],
   "source": [
    "import numpy as np"
   ],
   "metadata": {
    "collapsed": false,
    "pycharm": {
     "name": "#%%\n"
    }
   }
  },
  {
   "cell_type": "markdown",
   "source": [
    "# Создание матриц для игры"
   ],
   "metadata": {
    "collapsed": false
   }
  },
  {
   "cell_type": "code",
   "execution_count": 56,
   "outputs": [
    {
     "data": {
      "text/plain": "array([[[3, 3, 2],\n        [7, 2, 4],\n        [1, 5, 3]],\n\n       [[4, 1, 3],\n        [3, 4, 5],\n        [2, 6, 4]]])"
     },
     "execution_count": 56,
     "metadata": {},
     "output_type": "execute_result"
    }
   ],
   "source": [
    "table = np.array([\n",
    "    [\n",
    "        [3, 3, 2],\n",
    "        [7, 2, 4],\n",
    "        [1, 5, 3]\n",
    "    ],\n",
    "    [\n",
    "        [4, 1, 3],\n",
    "        [3, 4, 5],\n",
    "        [2, 6, 4]\n",
    "    ],\n",
    "])\n",
    "table"
   ],
   "metadata": {
    "collapsed": false,
    "pycharm": {
     "name": "#%%\n"
    }
   }
  },
  {
   "cell_type": "markdown",
   "source": [
    "# Равновесие в доминирующих стратегиях"
   ],
   "metadata": {
    "collapsed": false
   }
  },
  {
   "cell_type": "code",
   "execution_count": 57,
   "outputs": [],
   "source": [
    "def find_dominate_line(matrix):  # Функция для нахождения доминирующей строки\n",
    "    dominated = set()\n",
    "    been_dominating = set()\n",
    "\n",
    "    for i in range(len(matrix)):\n",
    "        for j in range(len(matrix)):\n",
    "            if i == j:\n",
    "                continue\n",
    "            if all(map(lambda x: x[0] < x[1], zip(matrix[i], matrix[j]))):\n",
    "                dominated.add(j)\n",
    "                been_dominating.add(i)\n",
    "    result = list(dominated.difference(been_dominating))\n",
    "    return None if len(result) == 0 else result[0]"
   ],
   "metadata": {
    "collapsed": false,
    "pycharm": {
     "name": "#%%\n"
    }
   }
  },
  {
   "cell_type": "code",
   "execution_count": 58,
   "outputs": [
    {
     "name": "stdout",
     "output_type": "stream",
     "text": [
      "[None, None]\n",
      "Равновесие не соблюдено\n"
     ]
    }
   ],
   "source": [
    "dominants = [find_dominate_line(table[i]) for i in range(len(table))]\n",
    "print(dominants)\n",
    "\n",
    "if len(set(dominants)) == len([i for i in dominants if not i is None]):\n",
    "    print('Равновесие соблюдено')\n",
    "else:\n",
    "    print('Равновесие не соблюдено')"
   ],
   "metadata": {
    "collapsed": false,
    "pycharm": {
     "name": "#%%\n"
    }
   }
  },
  {
   "cell_type": "markdown",
   "source": [
    "# Равновесие по Нэшу"
   ],
   "metadata": {
    "collapsed": false
   }
  },
  {
   "cell_type": "code",
   "execution_count": 62,
   "outputs": [
    {
     "name": "stdout",
     "output_type": "stream",
     "text": [
      "Точки равновесия по Нэшу: [(2, 2), (1, 1)]\n"
     ]
    }
   ],
   "source": [
    "A = np.argmax(table[0], axis=0)\n",
    "B = np.argmax(table[1], axis=1)\n",
    "nesh = []\n",
    "for i in range(len(A)):\n",
    "    if A[i] == B[i]:\n",
    "        nesh.append((A[i], B[i]))\n",
    "\n",
    "print(f'Точки равновесия по Нэшу: {nesh}')"
   ],
   "metadata": {
    "collapsed": false,
    "pycharm": {
     "name": "#%%\n"
    }
   }
  },
  {
   "cell_type": "code",
   "execution_count": 64,
   "outputs": [
    {
     "data": {
      "text/plain": "[[(3, 4), (3, 1), (2, 3)], [(7, 3), (2, 4), (4, 5)], [(1, 2), (5, 6), (3, 4)]]"
     },
     "execution_count": 64,
     "metadata": {},
     "output_type": "execute_result"
    }
   ],
   "source": [
    "converted_table = [[(None,) for j in range(len(table[0][i]))] for i in range(len(table[0]))]\n",
    "for i in range(len(converted_table)):\n",
    "    for j in range(len(converted_table[i])):\n",
    "        converted_table[i][j] = tuple([table[k][i][j] for k in range(len(table))])\n",
    "converted_table"
   ],
   "metadata": {
    "collapsed": false,
    "pycharm": {
     "name": "#%%\n"
    }
   }
  },
  {
   "cell_type": "markdown",
   "source": [
    "# Равновесие по Парето"
   ],
   "metadata": {
    "collapsed": false
   }
  },
  {
   "cell_type": "code",
   "execution_count": 65,
   "outputs": [
    {
     "name": "stdout",
     "output_type": "stream",
     "text": [
      "Точки равновесия по Парето: [(2, 2)]\n"
     ]
    }
   ],
   "source": [
    "print(f'Точки равновесия по Парето: {[i for i in nesh if converted_table[i[1]][i[0]][0] + converted_table[i[1]][i[0]][1] == max([converted_table[j[1]][j[0]][0] + converted_table[j[1]][j[0]][1] for j in nesh])]}')"
   ],
   "metadata": {
    "collapsed": false,
    "pycharm": {
     "name": "#%%\n"
    }
   }
  },
  {
   "cell_type": "markdown",
   "source": [
    "# Равновесие по Штакельбергу"
   ],
   "metadata": {
    "collapsed": false
   }
  },
  {
   "cell_type": "code",
   "execution_count": 66,
   "outputs": [
    {
     "data": {
      "text/plain": "4"
     },
     "execution_count": 66,
     "metadata": {},
     "output_type": "execute_result"
    }
   ],
   "source": [
    "target_values = [converted_table[p[1]][p[0]] for p in nesh]\n",
    "target_value"
   ],
   "metadata": {
    "collapsed": false,
    "pycharm": {
     "name": "#%%\n"
    }
   }
  }
 ],
 "metadata": {
  "kernelspec": {
   "display_name": "Python 3",
   "language": "python",
   "name": "python3"
  },
  "language_info": {
   "codemirror_mode": {
    "name": "ipython",
    "version": 2
   },
   "file_extension": ".py",
   "mimetype": "text/x-python",
   "name": "python",
   "nbconvert_exporter": "python",
   "pygments_lexer": "ipython2",
   "version": "2.7.6"
  }
 },
 "nbformat": 4,
 "nbformat_minor": 0
}