{
 "cells": [
  {
   "cell_type": "markdown",
   "metadata": {},
   "source": [
    "# Добавление необходимой библиотеки"
   ]
  },
  {
   "cell_type": "code",
   "execution_count": 1,
   "metadata": {
    "pycharm": {
     "name": "#%%\n"
    }
   },
   "outputs": [],
   "source": [
    "import numpy as np"
   ]
  },
  {
   "cell_type": "markdown",
   "metadata": {},
   "source": [
    "# Создание матриц для игры"
   ]
  },
  {
   "cell_type": "markdown",
   "metadata": {},
   "source": [
    "Условие задачи \"Семейный спор\""
   ]
  },
  {
   "cell_type": "code",
   "execution_count": 2,
   "metadata": {
    "pycharm": {
     "name": "#%%\n"
    }
   },
   "outputs": [
    {
     "data": {
      "text/plain": [
       "array([[[4, 0],\n",
       "        [0, 1]],\n",
       "\n",
       "       [[1, 0],\n",
       "        [0, 4]]])"
      ]
     },
     "execution_count": 2,
     "metadata": {},
     "output_type": "execute_result"
    }
   ],
   "source": [
    "table = np.array([\n",
    "    [\n",
    "        [4, 0],\n",
    "        [0, 1]\n",
    "    ],\n",
    "    [\n",
    "        [1, 0],\n",
    "        [0, 4]\n",
    "    ],\n",
    "])\n",
    "table"
   ]
  },
  {
   "cell_type": "markdown",
   "metadata": {},
   "source": [
    "Условие задачи \"Дилемма заключенного\""
   ]
  },
  {
   "cell_type": "code",
   "execution_count": 3,
   "metadata": {
    "pycharm": {
     "name": "#%%\n"
    }
   },
   "outputs": [
    {
     "data": {
      "text/plain": [
       "array([[[ -1, -10],\n",
       "        [  0,  -8]],\n",
       "\n",
       "       [[ -1,   0],\n",
       "        [-10,  -8]]])"
      ]
     },
     "execution_count": 3,
     "metadata": {},
     "output_type": "execute_result"
    }
   ],
   "source": [
    "table = np.array([\n",
    "    [\n",
    "        [-1, -10],\n",
    "        [0, -8]\n",
    "    ],\n",
    "    [\n",
    "        [-1, 0],\n",
    "        [-10, -8]\n",
    "    ],\n",
    "])\n",
    "table"
   ]
  },
  {
   "cell_type": "markdown",
   "metadata": {},
   "source": [
    "Мое условие"
   ]
  },
  {
   "cell_type": "code",
   "execution_count": 4,
   "metadata": {
    "pycharm": {
     "name": "#%%\n"
    }
   },
   "outputs": [
    {
     "data": {
      "text/plain": [
       "array([[[4, 0, 2],\n",
       "        [7, 2, 4],\n",
       "        [1, 5, 3]],\n",
       "\n",
       "       [[4, 1, 3],\n",
       "        [3, 4, 5],\n",
       "        [2, 6, 4]]])"
      ]
     },
     "execution_count": 4,
     "metadata": {},
     "output_type": "execute_result"
    }
   ],
   "source": [
    "table = np.array([\n",
    "    [\n",
    "        [4, 0, 2],\n",
    "        [7, 2, 4],\n",
    "        [1, 5, 3]\n",
    "    ],\n",
    "    [\n",
    "        [4, 1, 3],\n",
    "        [3, 4, 5],\n",
    "        [2, 6, 4]\n",
    "    ],\n",
    "])\n",
    "table"
   ]
  },
  {
   "cell_type": "markdown",
   "metadata": {},
   "source": [
    "# Равновесие в доминирующих стратегиях"
   ]
  },
  {
   "cell_type": "code",
   "execution_count": 5,
   "metadata": {
    "pycharm": {
     "name": "#%%\n"
    }
   },
   "outputs": [],
   "source": [
    "def find_dominate_line(matrix):  # Функция для нахождения доминирующей строки\n",
    "    dominated = set()\n",
    "    been_dominating = set()\n",
    "\n",
    "    for i in range(len(matrix)):\n",
    "        for j in range(len(matrix)):\n",
    "            if i == j:\n",
    "                continue\n",
    "            if all(map(lambda x: x[0] < x[1], zip(matrix[i], matrix[j]))):\n",
    "                dominated.add(j)\n",
    "                been_dominating.add(i)\n",
    "    result = list(dominated.difference(been_dominating))\n",
    "    return None if len(result) == 0 else result[0]"
   ]
  },
  {
   "cell_type": "code",
   "execution_count": 6,
   "metadata": {
    "pycharm": {
     "name": "#%%\n"
    }
   },
   "outputs": [
    {
     "name": "stdout",
     "output_type": "stream",
     "text": [
      "[1, None]\n",
      "Равновесие не соблюдено\n"
     ]
    }
   ],
   "source": [
    "dominants = [find_dominate_line(table[i]) for i in range(len(table))]\n",
    "print(dominants)\n",
    "\n",
    "is_equilibrium = len(set(dominants)) == len([i for i in dominants if not i is None])\n",
    "if is_equilibrium:\n",
    "    print('Равновесие соблюдено')\n",
    "else:\n",
    "    print('Равновесие не соблюдено')"
   ]
  },
  {
   "cell_type": "markdown",
   "metadata": {},
   "source": [
    "# Равновесие по Нэшу"
   ]
  },
  {
   "cell_type": "code",
   "execution_count": 7,
   "metadata": {
    "pycharm": {
     "name": "#%%\n"
    }
   },
   "outputs": [
    {
     "name": "stdout",
     "output_type": "stream",
     "text": [
      "Точки равновесия по Нэшу: [(2, 2), (1, 1)]\n"
     ]
    }
   ],
   "source": [
    "A = np.argmax(table[0], axis=0)\n",
    "B = np.argmax(table[1], axis=1)\n",
    "nesh = []\n",
    "for i in range(len(A)):\n",
    "    if A[i] == B[i]:\n",
    "        nesh.append((A[i], B[i]))\n",
    "\n",
    "print(f'Точки равновесия по Нэшу: {nesh}')"
   ]
  },
  {
   "cell_type": "code",
   "execution_count": 8,
   "metadata": {
    "pycharm": {
     "name": "#%%\n"
    }
   },
   "outputs": [
    {
     "data": {
      "text/plain": [
       "[[(4, 4), (0, 1), (2, 3)], [(7, 3), (2, 4), (4, 5)], [(1, 2), (5, 6), (3, 4)]]"
      ]
     },
     "execution_count": 8,
     "metadata": {},
     "output_type": "execute_result"
    }
   ],
   "source": [
    "converted_table = [[(None,) for j in range(len(table[0][i]))] for i in range(len(table[0]))]\n",
    "for i in range(len(converted_table)):\n",
    "    for j in range(len(converted_table[i])):\n",
    "        converted_table[i][j] = tuple([table[k][i][j] for k in range(len(table))])\n",
    "converted_table"
   ]
  },
  {
   "cell_type": "markdown",
   "metadata": {},
   "source": [
    "# Равновесие по Парето"
   ]
  },
  {
   "cell_type": "code",
   "execution_count": 9,
   "metadata": {
    "pycharm": {
     "name": "#%%\n"
    }
   },
   "outputs": [
    {
     "name": "stdout",
     "output_type": "stream",
     "text": [
      "Точки равновесия по Парето: [(2, 2)]\n"
     ]
    }
   ],
   "source": [
    "paretto_points = [i for i in nesh if converted_table[i[1]][i[0]][0] + converted_table[i[1]][i[0]][1] == max([converted_table[j[1]][j[0]][0] + converted_table[j[1]][j[0]][1] for j in nesh])]\n",
    "print(f'Точки равновесия по Парето: {paretto_points}')"
   ]
  },
  {
   "cell_type": "markdown",
   "metadata": {},
   "source": [
    "# Равновесие по Штакельбергу\n",
    "Согласно теореме 8:\n",
    "__Если игра двух лиц имеет по крайней мере две оптимальные по Парето и одновременно равновесные по Нэшу ситуации с различными векторами выигрышей,\n",
    "то в игре имеет место борьба за лидерство.__"
   ]
  },
  {
   "cell_type": "code",
   "execution_count": 10,
   "metadata": {
    "pycharm": {
     "name": "#%%\n"
    }
   },
   "outputs": [
    {
     "name": "stdout",
     "output_type": "stream",
     "text": [
      "Борьбы за лидерство нет\n",
      "Точки равновесия по Штакельбергу: [(4, 5), (4, 5)]\n"
     ]
    }
   ],
   "source": [
    "is_struggle_leadership = len(paretto_points) >= 2 and len(set(nesh)) != 1\n",
    "if is_struggle_leadership:\n",
    "    print('Имеет место борьба за лидерство')\n",
    "else:\n",
    "    print('Борьбы за лидерство нет')\n",
    "\n",
    "H = []\n",
    "for i in range(len(table)):\n",
    "    leader_index = np.unravel_index(np.argmax(table[i]), table[i].shape)[i]\n",
    "    sled_index = np.argmax(table[1-i], axis=1-i)[leader_index]\n",
    "    H.append(tuple(table[i][leader_index][sled_index] for i in range(len(table))))\n",
    "\n",
    "print(f'Точки равновесия по Штакельбергу: {H}')"
   ]
  }
 ],
 "metadata": {
  "kernelspec": {
   "display_name": "Python 3 (ipykernel)",
   "language": "python",
   "name": "python3"
  },
  "language_info": {
   "codemirror_mode": {
    "name": "ipython",
    "version": 3
   },
   "file_extension": ".py",
   "mimetype": "text/x-python",
   "name": "python",
   "nbconvert_exporter": "python",
   "pygments_lexer": "ipython3",
   "version": "3.8.9"
  }
 },
 "nbformat": 4,
 "nbformat_minor": 1
}