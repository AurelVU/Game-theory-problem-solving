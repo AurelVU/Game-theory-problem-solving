{
 "cells": [
  {
   "cell_type": "markdown",
   "metadata": {},
   "source": [
    "# Добавление необходимой библиотеки"
   ]
  },
  {
   "cell_type": "code",
   "execution_count": 1,
   "metadata": {
    "pycharm": {
     "name": "#%%\n"
    }
   },
   "outputs": [],
   "source": [
    "import numpy as np"
   ]
  },
  {
   "cell_type": "markdown",
   "source": [
    "# Добавление фукнции для красивой печати матриц"
   ],
   "metadata": {
    "collapsed": false
   }
  },
  {
   "cell_type": "code",
   "execution_count": 2,
   "outputs": [],
   "source": [
    "def printA(a):\n",
    "    for row in a:\n",
    "        for col in row:\n",
    "            print(\"{:8.1f}\".format(col), end=\" \")\n",
    "        print(\"\")"
   ],
   "metadata": {
    "collapsed": false,
    "pycharm": {
     "name": "#%%\n"
    }
   }
  },
  {
   "cell_type": "markdown",
   "metadata": {},
   "source": [
    "# Создание матриц для игры"
   ]
  },
  {
   "cell_type": "markdown",
   "metadata": {},
   "source": [
    "Условие задачи \"Семейный спор\""
   ]
  },
  {
   "cell_type": "code",
   "execution_count": 3,
   "metadata": {
    "pycharm": {
     "name": "#%%\n"
    }
   },
   "outputs": [
    {
     "name": "stdout",
     "output_type": "stream",
     "text": [
      "Матрица A\n",
      "     4.0      0.0 \n",
      "     0.0      1.0 \n",
      "Матрица B\n",
      "     1.0      0.0 \n",
      "     0.0      4.0 \n"
     ]
    }
   ],
   "source": [
    "table = np.array([\n",
    "    [\n",
    "        [4, 0],\n",
    "        [0, 1]\n",
    "    ],\n",
    "    [\n",
    "        [1, 0],\n",
    "        [0, 4]\n",
    "    ],\n",
    "])\n",
    "print('Матрица A')\n",
    "printA(table[0])\n",
    "print('Матрица B')\n",
    "printA(table[1])"
   ]
  },
  {
   "cell_type": "markdown",
   "metadata": {},
   "source": [
    "Условие задачи \"Дилемма заключенного\""
   ]
  },
  {
   "cell_type": "code",
   "execution_count": 4,
   "metadata": {
    "pycharm": {
     "name": "#%%\n"
    }
   },
   "outputs": [
    {
     "name": "stdout",
     "output_type": "stream",
     "text": [
      "Матрица A\n",
      "    -1.0    -10.0 \n",
      "     0.0     -8.0 \n",
      "Матрица B\n",
      "    -1.0      0.0 \n",
      "   -10.0     -8.0 \n"
     ]
    }
   ],
   "source": [
    "table = np.array([\n",
    "    [\n",
    "        [-1, -10],\n",
    "        [0, -8]\n",
    "    ],\n",
    "    [\n",
    "        [-1, 0],\n",
    "        [-10, -8]\n",
    "    ],\n",
    "])\n",
    "print('Матрица A')\n",
    "printA(table[0])\n",
    "print('Матрица B')\n",
    "printA(table[1])"
   ]
  },
  {
   "cell_type": "markdown",
   "metadata": {},
   "source": [
    "Мое условие"
   ]
  },
  {
   "cell_type": "code",
   "execution_count": 5,
   "metadata": {
    "pycharm": {
     "name": "#%%\n"
    }
   },
   "outputs": [
    {
     "name": "stdout",
     "output_type": "stream",
     "text": [
      "Матрица A\n",
      "     4.0      0.0      2.0 \n",
      "     7.0      2.0      4.0 \n",
      "     1.0      5.0      3.0 \n",
      "Матрица B\n",
      "     4.0      1.0      3.0 \n",
      "     3.0      4.0      5.0 \n",
      "     2.0      6.0      4.0 \n"
     ]
    }
   ],
   "source": [
    "table = np.array([\n",
    "    [\n",
    "        [4, 0, 2],\n",
    "        [7, 2, 4],\n",
    "        [1, 5, 3]\n",
    "    ],\n",
    "    [\n",
    "        [4, 1, 3],\n",
    "        [3, 4, 5],\n",
    "        [2, 6, 4]\n",
    "    ],\n",
    "])\n",
    "print('Матрица A')\n",
    "printA(table[0])\n",
    "print('Матрица B')\n",
    "printA(table[1])"
   ]
  },
  {
   "cell_type": "markdown",
   "metadata": {},
   "source": [
    "# Равновесие в доминирующих стратегиях"
   ]
  },
  {
   "cell_type": "code",
   "execution_count": 6,
   "metadata": {
    "pycharm": {
     "name": "#%%\n"
    }
   },
   "outputs": [],
   "source": [
    "def find_dominate_line(matrix):  # Функция для нахождения доминирующей строки\n",
    "    dominated = set()\n",
    "    been_dominating = set()\n",
    "\n",
    "    for i in range(len(matrix)):\n",
    "        for j in range(len(matrix)):\n",
    "            if i == j:\n",
    "                continue\n",
    "            if all(map(lambda x: x[0] < x[1], zip(matrix[i], matrix[j]))):\n",
    "                dominated.add(j)\n",
    "                been_dominating.add(i)\n",
    "    result = list(dominated.difference(been_dominating))\n",
    "    return None if len(result) == 0 else result[0]"
   ]
  },
  {
   "cell_type": "code",
   "execution_count": 7,
   "metadata": {
    "pycharm": {
     "name": "#%%\n"
    }
   },
   "outputs": [
    {
     "name": "stdout",
     "output_type": "stream",
     "text": [
      "[1, None]\n",
      "Равновесие не соблюдено\n"
     ]
    }
   ],
   "source": [
    "dominants = [find_dominate_line(table[i]) for i in range(len(table))]\n",
    "print(dominants)\n",
    "\n",
    "is_equilibrium = len(set(dominants)) == len([i for i in dominants if not i is None])\n",
    "if is_equilibrium:\n",
    "    print('Равновесие соблюдено')\n",
    "else:\n",
    "    print('Равновесие не соблюдено')"
   ]
  },
  {
   "cell_type": "markdown",
   "metadata": {},
   "source": [
    "# Равновесие по Нэшу"
   ]
  },
  {
   "cell_type": "code",
   "execution_count": 8,
   "metadata": {
    "pycharm": {
     "name": "#%%\n"
    }
   },
   "outputs": [
    {
     "name": "stdout",
     "output_type": "stream",
     "text": [
      "Точки для первого игрока: [(0, 1), (1, 2), (2, 1)]\n",
      "Точки для второго игрока: [(0, 0), (2, 1), (1, 2)]\n",
      "Точки равновесия по Нэшу: [(1, 2), (2, 1)]\n"
     ]
    }
   ],
   "source": [
    "from collections import Counter\n",
    "\n",
    "A = [(i, j) for i, j in enumerate(np.argmax(table[0], axis=0))] # поиск точек с максимальным выигрышем для первого игрока в матрице A (ищу по строкам)\n",
    "B = [(j, i) for i, j in enumerate(np.argmax(table[1], axis=1))] # поиск точек с максимальным выигрышем для первого игрока в матрице B (ищу по стобцам)\n",
    "print(f'Точки для первого игрока: {A}')\n",
    "print(f'Точки для второго игрока: {B}')\n",
    "nesh = list((Counter(A) & Counter(B)).elements()) # Находим точки, принадлежащие обоим массивам\n",
    "\n",
    "print(f'Точки равновесия по Нэшу: {nesh}')"
   ]
  },
  {
   "cell_type": "markdown",
   "source": [
    "### Провожу преобразование матриц A и B к иному виду, более удобному для поиска равновесия по Парето"
   ],
   "metadata": {
    "collapsed": false
   }
  },
  {
   "cell_type": "code",
   "execution_count": 9,
   "metadata": {
    "pycharm": {
     "name": "#%%\n"
    }
   },
   "outputs": [
    {
     "data": {
      "text/plain": "[[(4, 4), (0, 1), (2, 3)], [(7, 3), (2, 4), (4, 5)], [(1, 2), (5, 6), (3, 4)]]"
     },
     "execution_count": 9,
     "metadata": {},
     "output_type": "execute_result"
    }
   ],
   "source": [
    "converted_table = [[(None,) for j in range(len(table[0][i]))] for i in range(len(table[0]))]\n",
    "for i in range(len(converted_table)):\n",
    "    for j in range(len(converted_table[i])):\n",
    "        converted_table[i][j] = tuple([table[k][i][j] for k in range(len(table))])\n",
    "converted_table"
   ]
  },
  {
   "cell_type": "markdown",
   "metadata": {},
   "source": [
    "# Равновесие по Парето"
   ]
  },
  {
   "cell_type": "code",
   "execution_count": 10,
   "metadata": {
    "pycharm": {
     "name": "#%%\n"
    }
   },
   "outputs": [
    {
     "name": "stdout",
     "output_type": "stream",
     "text": [
      "Точки равновесия по Парето: [(7, 3), (5, 6)]\n"
     ]
    }
   ],
   "source": [
    "paretto_points = []\n",
    "for i1 in range(len(converted_table)):\n",
    "    for j1 in range(len(converted_table)): # перебор всех точек\n",
    "        point1 = converted_table[i1][j1]\n",
    "        dominating = []\n",
    "        for i2 in range(len(converted_table)): # перебор всех точек для сравнения с point1\n",
    "            for j2 in range(len(converted_table)):\n",
    "                point2 = converted_table[i2][j2]\n",
    "                # Если это не та же самая точка, одно значение которой не меньше, а другое строго больше, то считаем, что point2 \"доминирует\" над point1\n",
    "                if not (i1 == i2 and j1 == j2) and (point2[0] >= point1[0] and point2[1] > point1[1]) or (point2[0] > point1[0] and point2[1] >= point1[1]):\n",
    "                    dominating.append(point2)\n",
    "        if len(dominating) == 0: # если точка не была \"задоминирована\", то это точка равновесия по Парето\n",
    "            paretto_points.append(point1)\n",
    "\n",
    "print(f'Точки равновесия по Парето: {paretto_points}')"
   ]
  },
  {
   "cell_type": "markdown",
   "metadata": {},
   "source": [
    "# Равновесие по Штакельбергу\n",
    "Согласно теореме 8:\n",
    "__Если игра двух лиц имеет по крайней мере две оптимальные по Парето и одновременно равновесные по Нэшу ситуации с различными векторами выигрышей,\n",
    "то в игре имеет место борьба за лидерство.__"
   ]
  },
  {
   "cell_type": "code",
   "execution_count": 11,
   "metadata": {
    "pycharm": {
     "name": "#%%\n"
    }
   },
   "outputs": [
    {
     "name": "stdout",
     "output_type": "stream",
     "text": [
      "Имеет место борьба за лидерство\n",
      "Точки равновесия по Штакельбергу: [(4, 5), (4, 5)]\n"
     ]
    }
   ],
   "source": [
    "is_struggle_leadership = len(paretto_points) >= 2 and len(set(nesh)) != 1\n",
    "if is_struggle_leadership:\n",
    "    print('Имеет место борьба за лидерство')\n",
    "else:\n",
    "    print('Борьбы за лидерство нет')\n",
    "\n",
    "H = []\n",
    "for i in range(len(table)):\n",
    "    leader_index = np.unravel_index(np.argmax(table[i]), table[i].shape)[i]\n",
    "    sled_index = np.argmax(table[1-i], axis=1-i)[leader_index]\n",
    "    H.append(tuple(table[i][leader_index][sled_index] for i in range(len(table))))\n",
    "\n",
    "print(f'Точки равновесия по Штакельбергу: {H}')"
   ]
  }
 ],
 "metadata": {
  "kernelspec": {
   "display_name": "Python 3 (ipykernel)",
   "language": "python",
   "name": "python3"
  },
  "language_info": {
   "codemirror_mode": {
    "name": "ipython",
    "version": 3
   },
   "file_extension": ".py",
   "mimetype": "text/x-python",
   "name": "python",
   "nbconvert_exporter": "python",
   "pygments_lexer": "ipython3",
   "version": "3.8.9"
  }
 },
 "nbformat": 4,
 "nbformat_minor": 1
}