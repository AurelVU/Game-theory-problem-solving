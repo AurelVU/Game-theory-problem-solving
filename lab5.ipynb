{
 "cells": [
  {
   "cell_type": "markdown",
   "metadata": {},
   "source": [
    "# Добавление необходимой библиотеки"
   ]
  },
  {
   "cell_type": "code",
   "execution_count": 1,
   "metadata": {
    "collapsed": true
   },
   "outputs": [],
   "source": [
    "import numpy as np\n",
    "from numpy import linalg as LA"
   ]
  },
  {
   "cell_type": "markdown",
   "metadata": {},
   "source": [
    "# Создание матриц для игры"
   ]
  },
  {
   "cell_type": "markdown",
   "metadata": {},
   "source": [
    "Условие задачи \"Семейный спор\""
   ]
  },
  {
   "cell_type": "code",
   "execution_count": 2,
   "metadata": {
    "pycharm": {
     "name": "#%%\n"
    }
   },
   "outputs": [
    {
     "data": {
      "text/plain": "array([[[4, 0],\n        [0, 1]],\n\n       [[1, 0],\n        [0, 4]]])"
     },
     "execution_count": 2,
     "metadata": {},
     "output_type": "execute_result"
    }
   ],
   "source": [
    "table = np.array([\n",
    "    [\n",
    "        [4, 0],\n",
    "        [0, 1]\n",
    "    ],\n",
    "    [\n",
    "        [1, 0],\n",
    "        [0, 4]\n",
    "    ],\n",
    "])\n",
    "table"
   ]
  },
  {
   "cell_type": "markdown",
   "metadata": {
    "pycharm": {
     "name": "#%% md\n"
    }
   },
   "source": [
    "Условие задачи \"Дилемма заключенного\""
   ]
  },
  {
   "cell_type": "code",
   "execution_count": 3,
   "metadata": {
    "pycharm": {
     "name": "#%%\n"
    }
   },
   "outputs": [
    {
     "data": {
      "text/plain": "array([[[ -1, -10],\n        [  0,  -8]],\n\n       [[ -1,   0],\n        [-10,  -8]]])"
     },
     "execution_count": 3,
     "metadata": {},
     "output_type": "execute_result"
    }
   ],
   "source": [
    "table = np.array([\n",
    "    [\n",
    "        [-1, -10],\n",
    "        [0, -8]\n",
    "    ],\n",
    "    [\n",
    "        [-1, 0],\n",
    "        [-10, -8]\n",
    "    ],\n",
    "])\n",
    "table"
   ]
  },
  {
   "cell_type": "markdown",
   "metadata": {},
   "source": [
    "Мое условие"
   ]
  },
  {
   "cell_type": "code",
   "execution_count": 4,
   "metadata": {
    "pycharm": {
     "name": "#%%\n"
    }
   },
   "outputs": [
    {
     "data": {
      "text/plain": "array([[[4, 0, 2],\n        [7, 2, 4],\n        [1, 5, 3]],\n\n       [[4, 1, 3],\n        [3, 4, 5],\n        [2, 6, 4]]])"
     },
     "execution_count": 4,
     "metadata": {},
     "output_type": "execute_result"
    }
   ],
   "source": [
    "table = np.array([\n",
    "    [\n",
    "        [4, 0, 2],\n",
    "        [7, 2, 4],\n",
    "        [1, 5, 3]\n",
    "    ],\n",
    "    [\n",
    "        [4, 1, 3],\n",
    "        [3, 4, 5],\n",
    "        [2, 6, 4]\n",
    "    ],\n",
    "])\n",
    "table"
   ]
  },
  {
   "cell_type": "markdown",
   "source": [
    "### Нахождение инвертированных таблиц"
   ],
   "metadata": {
    "collapsed": false
   }
  },
  {
   "cell_type": "code",
   "execution_count": 5,
   "metadata": {
    "pycharm": {
     "name": "#%%\n"
    }
   },
   "outputs": [
    {
     "data": {
      "text/plain": "array([[[-1.4       ,  1.        , -0.4       ],\n        [-1.7       ,  1.        , -0.2       ],\n        [ 3.3       , -2.        ,  0.8       ]],\n\n       [[ 0.5       , -0.5       ,  0.25      ],\n        [ 0.07142857, -0.35714286,  0.39285714],\n        [-0.35714286,  0.78571429, -0.46428571]]])"
     },
     "execution_count": 5,
     "metadata": {},
     "output_type": "execute_result"
    }
   ],
   "source": [
    "inv_table = np.array([LA.inv(t) for t in table])\n",
    "inv_table"
   ]
  },
  {
   "cell_type": "markdown",
   "source": [
    "### Нахождение равновесных векторов выигрыша"
   ],
   "metadata": {
    "collapsed": false
   }
  },
  {
   "cell_type": "code",
   "execution_count": 6,
   "metadata": {
    "pycharm": {
     "name": "#%%\n"
    }
   },
   "outputs": [
    {
     "data": {
      "text/plain": "[2.5000000000000018, 3.111111111111113]"
     },
     "execution_count": 6,
     "metadata": {},
     "output_type": "execute_result"
    }
   ],
   "source": [
    "v = [1 / ((np.matrix(np.ones(len(t[0]))) *  t * np.matrix(np.ones(len(t))).T).tolist()[0][0]) for t in inv_table]\n",
    "v"
   ]
  },
  {
   "cell_type": "markdown",
   "source": [
    "### Нахождение значений x, y"
   ],
   "metadata": {
    "collapsed": false
   }
  },
  {
   "cell_type": "code",
   "execution_count": 7,
   "metadata": {
    "pycharm": {
     "name": "#%%\n"
    }
   },
   "outputs": [
    {
     "name": "stdout",
     "output_type": "stream",
     "text": [
      "[0.4999999999999999, 6.661338147750963e-16, 0.5000000000000003] [0.6666666666666667, -0.22222222222222246, 0.555555555555556]\n"
     ]
    }
   ],
   "source": [
    "x, y = tuple((v[i] * np.matrix(np.ones(len(inv_table[i][0]))) * inv_table[i]).tolist()[0] for i in range(len(v)))\n",
    "print(x, y)"
   ]
  },
  {
   "cell_type": "markdown",
   "source": [
    "### Принятие решения"
   ],
   "metadata": {
    "collapsed": false
   }
  },
  {
   "cell_type": "code",
   "execution_count": 8,
   "metadata": {
    "pycharm": {
     "name": "#%%\n"
    }
   },
   "outputs": [
    {
     "name": "stdout",
     "output_type": "stream",
     "text": [
      "Ситуация равновесия в смешанных стратегиях не найдена\n"
     ]
    }
   ],
   "source": [
    "if min(x) >= 0 and min(y) >= 0:\n",
    "    print(f'Найдена ситуация равновесия в смешанных стратегиях с равновесным вектором выигрышей {v}')\n",
    "else:\n",
    "    print('Ситуация равновесия в смешанных стратегиях не найдена')"
   ]
  }
 ],
 "metadata": {
  "kernelspec": {
   "display_name": "Python 3 (ipykernel)",
   "language": "python",
   "name": "python3"
  },
  "language_info": {
   "codemirror_mode": {
    "name": "ipython",
    "version": 3
   },
   "file_extension": ".py",
   "mimetype": "text/x-python",
   "name": "python",
   "nbconvert_exporter": "python",
   "pygments_lexer": "ipython3",
   "version": "3.8.9"
  }
 },
 "nbformat": 4,
 "nbformat_minor": 1
}