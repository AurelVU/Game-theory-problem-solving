{
 "cells": [
  {
   "cell_type": "markdown",
   "metadata": {},
   "source": [
    "# Задание 2. Матричные игры"
   ]
  },
  {
   "cell_type": "markdown",
   "source": [
    "## Импорт библиотеки для линейного программирования"
   ],
   "metadata": {
    "collapsed": false
   }
  },
  {
   "cell_type": "code",
   "execution_count": 1,
   "outputs": [],
   "source": [
    "from pulp import *"
   ],
   "metadata": {
    "collapsed": false,
    "pycharm": {
     "name": "#%%\n"
    }
   }
  },
  {
   "cell_type": "markdown",
   "source": [
    "## Задание исходной матрицы"
   ],
   "metadata": {
    "collapsed": false
   }
  },
  {
   "cell_type": "code",
   "execution_count": 2,
   "metadata": {
    "pycharm": {
     "name": "#%%\n"
    }
   },
   "outputs": [],
   "source": [
    "A = [\n",
    "    [5, -6, 3, 0, 12, 4],\n",
    "    [3, 5, 12, 10, 6, 8],\n",
    "    [10, 0, -5, -2, -4, 6],\n",
    "    [8, 6, -4, -2, 14, 5],\n",
    "    [4, 3, -5, 10, 1, 4]\n",
    "]"
   ]
  },
  {
   "cell_type": "markdown",
   "source": [
    "## Поиск наименьшего отрицательного числа"
   ],
   "metadata": {
    "collapsed": false
   }
  },
  {
   "cell_type": "code",
   "execution_count": 3,
   "metadata": {
    "pycharm": {
     "name": "#%%\n"
    }
   },
   "outputs": [
    {
     "data": {
      "text/plain": "-6"
     },
     "execution_count": 3,
     "metadata": {},
     "output_type": "execute_result"
    }
   ],
   "source": [
    "min_value = min([min(row) for row in A])\n",
    "min_value = 0 if min_value > 0 else min_value\n",
    "min_value"
   ]
  },
  {
   "cell_type": "markdown",
   "source": [
    "## Рассчет матрицы A', где к элементам прибавлено абсолютное значение min_value + 1"
   ],
   "metadata": {
    "collapsed": false
   }
  },
  {
   "cell_type": "code",
   "execution_count": 4,
   "metadata": {
    "pycharm": {
     "name": "#%%\n"
    }
   },
   "outputs": [
    {
     "data": {
      "text/plain": "[[12, 1, 10, 7, 19, 11],\n [10, 12, 19, 17, 13, 15],\n [17, 7, 2, 5, 3, 13],\n [15, 13, 3, 5, 21, 12],\n [11, 10, 2, 17, 8, 11]]"
     },
     "execution_count": 4,
     "metadata": {},
     "output_type": "execute_result"
    }
   ],
   "source": [
    "A_1 = []\n",
    "for i in range(len(A)):\n",
    "    A_1.append([])\n",
    "    for j in range(len(A[i])):\n",
    "        A_1[i].append(A[i][j] + abs(min_value) + 1)\n",
    "A_1"
   ]
  },
  {
   "cell_type": "markdown",
   "source": [
    "## Поиск значений t"
   ],
   "metadata": {
    "collapsed": false
   }
  },
  {
   "cell_type": "code",
   "execution_count": 5,
   "metadata": {
    "pycharm": {
     "name": "#%%\n"
    }
   },
   "outputs": [
    {
     "name": "stderr",
     "output_type": "stream",
     "text": [
      "c:\\python39\\lib\\site-packages\\pulp\\pulp.py:1313: UserWarning: Spaces are not permitted in the name. Converted to '_'\n",
      "  warnings.warn(\"Spaces are not permitted in the name. Converted to '_'\")\n"
     ]
    },
    {
     "data": {
      "text/plain": "[0.0, 0.047346939, 0.0032653061, 0.030204082, 0.0016326531]"
     },
     "execution_count": 5,
     "metadata": {},
     "output_type": "execute_result"
    }
   ],
   "source": [
    "t = [pulp.LpVariable(f\"t{i}\", lowBound=0) for i in range(len(A_1))]\n",
    "c = [1 for i in range(len(t))]\n",
    "p1 = pulp.LpProblem('Задача P1', pulp.const.LpMinimize)  # Создание задачи для минимизации\n",
    "p1 += sum([t[i] for i in range(len(A_1))]), \"целевая фукнция\"  # задание t1 + t2 + ... -> min\n",
    "for i in range(len(A_1[0])):\n",
    "    p1 += sum([t[j] * A_1[j][i] for j in range(len(A_1))]) >= 1, f\"{i}\" # Задания суммы t1 * A'[1][1] + ... >= 1\n",
    "p1.solve()\n",
    "\n",
    "t_ = [variable.varValue for variable in p1.variables()]\n",
    "t_"
   ]
  },
  {
   "cell_type": "markdown",
   "source": [
    "## Поиск v"
   ],
   "metadata": {
    "collapsed": false
   }
  },
  {
   "cell_type": "code",
   "execution_count": 6,
   "outputs": [
    {
     "data": {
      "text/plain": "12.12871278182286"
     },
     "execution_count": 6,
     "metadata": {},
     "output_type": "execute_result"
    }
   ],
   "source": [
    "v = 1.0 / sum([t_[i] * c[i] for i in range(len(t_))])\n",
    "v"
   ],
   "metadata": {
    "collapsed": false,
    "pycharm": {
     "name": "#%%\n"
    }
   }
  },
  {
   "cell_type": "markdown",
   "source": [
    "## Поиск значений x"
   ],
   "metadata": {
    "collapsed": false
   }
  },
  {
   "cell_type": "code",
   "execution_count": 7,
   "outputs": [
    {
     "data": {
      "text/plain": "[0.0,\n 0.5742574242294872,\n 0.03960395983163416,\n 0.3663366354166258,\n 0.019801980522252717]"
     },
     "execution_count": 7,
     "metadata": {},
     "output_type": "execute_result"
    }
   ],
   "source": [
    "x = [t_[i] * v for i in range(len(t_))]\n",
    "x"
   ],
   "metadata": {
    "collapsed": false,
    "pycharm": {
     "name": "#%%\n"
    }
   }
  },
  {
   "cell_type": "markdown",
   "source": [
    "## Получение транспонированной матрицы от A'"
   ],
   "metadata": {
    "collapsed": false
   }
  },
  {
   "cell_type": "code",
   "execution_count": 8,
   "metadata": {
    "pycharm": {
     "name": "#%%\n"
    }
   },
   "outputs": [
    {
     "data": {
      "text/plain": "[[12, 10, 17, 15, 11],\n [1, 12, 7, 13, 10],\n [10, 19, 2, 3, 2],\n [7, 17, 5, 5, 17],\n [19, 13, 3, 21, 8],\n [11, 15, 13, 12, 11]]"
     },
     "execution_count": 8,
     "metadata": {},
     "output_type": "execute_result"
    }
   ],
   "source": [
    "A_2 = [[A_1[i][j]  for i in range(len(A))] for j in range(len(A[0]))]\n",
    "A_2"
   ]
  },
  {
   "cell_type": "markdown",
   "source": [
    "## Поиск значений u"
   ],
   "metadata": {
    "collapsed": false
   }
  },
  {
   "cell_type": "code",
   "execution_count": 9,
   "metadata": {
    "pycharm": {
     "name": "#%%\n"
    }
   },
   "outputs": [
    {
     "data": {
      "text/plain": "[0.04664723, 0.015393586, 0.00093294461, 0.019475219, 0.0, 0.0]"
     },
     "execution_count": 9,
     "metadata": {},
     "output_type": "execute_result"
    }
   ],
   "source": [
    "u = [pulp.LpVariable(f\"u{i}\", lowBound=0) for i in range(len(A_2))]\n",
    "c = [1 for i in range(len(u))]\n",
    "p2 = pulp.LpProblem('Задача P2', pulp.const.LpMaximize) # Создание задачи для максимизации\n",
    "p2 += sum([u[i] for i in range(len(A_2))]), \"целевая фукнция\" # задание u1 + u2 + ... -> max\n",
    "for i in range(len(A_2[0])):\n",
    "    p2 += sum([u[j] * A_2[j][i] for j in range(len(A_2))]) <= 1, f\"{i}\" # Задания суммы u1 * A''[1][1] + ... <= 1\n",
    "p2.solve()\n",
    "\n",
    "u_ = [variable.varValue for variable in p2.variables()]\n",
    "u_"
   ]
  },
  {
   "cell_type": "markdown",
   "source": [
    "## Поиск v"
   ],
   "metadata": {
    "collapsed": false
   }
  },
  {
   "cell_type": "code",
   "execution_count": 10,
   "outputs": [
    {
     "data": {
      "text/plain": "12.128712868615208"
     },
     "execution_count": 10,
     "metadata": {},
     "output_type": "execute_result"
    }
   ],
   "source": [
    "v = 1.0 / sum([u_[i] * c[i] for i in range(len(u_))])\n",
    "v"
   ],
   "metadata": {
    "collapsed": false,
    "pycharm": {
     "name": "#%%\n"
    }
   }
  },
  {
   "cell_type": "markdown",
   "source": [
    "## Поиск значений y"
   ],
   "metadata": {
    "collapsed": false
   }
  },
  {
   "cell_type": "code",
   "execution_count": 11,
   "outputs": [
    {
     "data": {
      "text/plain": "[0.5657708587862533,\n 0.18670438461233493,\n 0.011315417297012196,\n 0.23620933930439938,\n 0.0,\n 0.0]"
     },
     "execution_count": 11,
     "metadata": {},
     "output_type": "execute_result"
    }
   ],
   "source": [
    "y = [u_[i] * v for i in range(len(u_))]\n",
    "y"
   ],
   "metadata": {
    "collapsed": false,
    "pycharm": {
     "name": "#%%\n"
    }
   }
  }
 ],
 "metadata": {
  "kernelspec": {
   "display_name": "Python 3",
   "language": "python",
   "name": "python3"
  },
  "language_info": {
   "codemirror_mode": {
    "name": "ipython",
    "version": 3
   },
   "file_extension": ".py",
   "mimetype": "text/x-python",
   "name": "python",
   "nbconvert_exporter": "python",
   "pygments_lexer": "ipython3",
   "version": "3.9.2"
  }
 },
 "nbformat": 4,
 "nbformat_minor": 1
}