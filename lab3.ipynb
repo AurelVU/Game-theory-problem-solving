{
 "cells": [
  {
   "cell_type": "markdown",
   "metadata": {},
   "source": [
    "# Введение начальных условий"
   ]
  },
  {
   "cell_type": "code",
   "execution_count": 12,
   "metadata": {
    "collapsed": true
   },
   "outputs": [],
   "source": [
    "p = [0.2, 0.5, 0.3]\n",
    "count = [1500, 2000, 2500]\n",
    "save_price = 5\n",
    "defic_price = 3"
   ]
  },
  {
   "cell_type": "markdown",
   "metadata": {},
   "source": [
    "# Составление таблицы"
   ]
  },
  {
   "cell_type": "code",
   "execution_count": 13,
   "metadata": {
    "pycharm": {
     "name": "#%%\n"
    }
   },
   "outputs": [
    {
     "data": {
      "text/plain": [
       "[[0.0, -500.0, -1000.0], [-750.0, 0.0, -1250.0], [-900.0, -450.0, 0.0]]"
      ]
     },
     "execution_count": 13,
     "metadata": {},
     "output_type": "execute_result"
    }
   ],
   "source": [
    "table = [[0 for i in range(len(p))] for j in range(len(count))]\n",
    "for i in range(len(p)):\n",
    "    for j in range(len(count)):\n",
    "        demand = count[i]\n",
    "        offer = count[j]\n",
    "        total_save_price = - (max(offer - demand, 0)) * save_price\n",
    "        total_defic_price = - (max(demand - offer, 0)) * defic_price\n",
    "        table[i][j] = p[i] * (total_save_price + total_defic_price)\n",
    "\n",
    "table"
   ]
  },
  {
   "cell_type": "markdown",
   "metadata": {},
   "source": [
    "# Принятие решение на основании риска"
   ]
  },
  {
   "cell_type": "code",
   "execution_count": 14,
   "metadata": {
    "pycharm": {
     "name": "#%%\n"
    }
   },
   "outputs": [
    {
     "data": {
      "text/plain": [
       "[-1500.0, -2000.0, -1350.0]"
      ]
     },
     "execution_count": 14,
     "metadata": {},
     "output_type": "execute_result"
    }
   ],
   "source": [
    "result = [sum(row) for row in table]\n",
    "result"
   ]
  },
  {
   "cell_type": "markdown",
   "metadata": {},
   "source": [
    "## На основании этого можно говорить, что выигрышная стратегия - третья"
   ]
  },
  {
   "cell_type": "markdown",
   "metadata": {},
   "source": [
    "# Ввод начальных значений"
   ]
  },
  {
   "cell_type": "code",
   "execution_count": 15,
   "metadata": {
    "pycharm": {
     "name": "#%%\n"
    }
   },
   "outputs": [],
   "source": [
    "people_stream = [2000, 4000, 6000, 8000]\n",
    "price = 90\n",
    "lost_men_price = 50\n",
    "prostoi_price = 60"
   ]
  },
  {
   "cell_type": "markdown",
   "metadata": {},
   "source": [
    "# Генерация таблицы"
   ]
  },
  {
   "cell_type": "code",
   "execution_count": 16,
   "metadata": {
    "pycharm": {
     "name": "#%%\n"
    }
   },
   "outputs": [
    {
     "data": {
      "text/plain": [
       "[[180000, 80000, -20000, -120000],\n",
       " [60000, 360000, 260000, 160000],\n",
       " [-60000, 240000, 540000, 440000],\n",
       " [-180000, 120000, 420000, 720000]]"
      ]
     },
     "execution_count": 16,
     "metadata": {},
     "output_type": "execute_result"
    }
   ],
   "source": [
    "table = [[0 for i in range(len(people_stream))] for j in range(len(people_stream))]\n",
    "for i in range(len(table)):\n",
    "    for j in range(len(table[i])):\n",
    "        prishlo = people_stream[j]\n",
    "        dumali = people_stream[i]\n",
    "        lost = max(prishlo - dumali, 0)\n",
    "        prostoi = max(dumali - prishlo, 0)\n",
    "        viruchka = min(dumali, prishlo) * price\n",
    "        poteri = lost * lost_men_price + prostoi * prostoi_price\n",
    "        table[i][j] = viruchka - poteri\n",
    "\n",
    "table"
   ]
  },
  {
   "cell_type": "markdown",
   "metadata": {},
   "source": [
    "# Принятие решения на основании Критерий максимакса."
   ]
  },
  {
   "cell_type": "code",
   "execution_count": 17,
   "metadata": {
    "pycharm": {
     "name": "#%%\n"
    }
   },
   "outputs": [
    {
     "data": {
      "text/plain": [
       "[120000, 840000, 1160000, 1080000]"
      ]
     },
     "execution_count": 17,
     "metadata": {},
     "output_type": "execute_result"
    }
   ],
   "source": [
    "maximum_criterion = [sum(row) for row in table]\n",
    "maximum_criterion"
   ]
  },
  {
   "cell_type": "markdown",
   "metadata": {},
   "source": [
    "## На основании него выигрышной стратегией является закупка 8000"
   ]
  },
  {
   "cell_type": "markdown",
   "metadata": {},
   "source": [
    "# Принятие решение на основании Максиминный критерий Вальда."
   ]
  },
  {
   "cell_type": "code",
   "execution_count": 18,
   "metadata": {
    "pycharm": {
     "name": "#%%\n"
    }
   },
   "outputs": [
    {
     "data": {
      "text/plain": [
       "[120000, 840000, 1160000, 1080000]"
      ]
     },
     "execution_count": 18,
     "metadata": {},
     "output_type": "execute_result"
    }
   ],
   "source": [
    "maximin_wald_test = [sum(row) for row in table]\n",
    "maximin_wald_test"
   ]
  },
  {
   "cell_type": "markdown",
   "metadata": {},
   "source": [
    "## На основании него выигрышной стратегией является закупка 6000"
   ]
  },
  {
   "cell_type": "markdown",
   "metadata": {},
   "source": [
    "# Принятие решение на основании Критерий минимаксного риска Сэвиджа."
   ]
  },
  {
   "cell_type": "code",
   "execution_count": 19,
   "metadata": {
    "pycharm": {
     "name": "#%%\n"
    }
   },
   "outputs": [
    {
     "data": {
      "text/plain": [
       "[0, 180000, 360000, 540000]"
      ]
     },
     "execution_count": 19,
     "metadata": {},
     "output_type": "execute_result"
    }
   ],
   "source": [
    "result = [max(row) for row in table]\n",
    "sub_table = [[result[i] - result[j] for j in range(len(result))] for i in range(len(result))]\n",
    "savage_minimax_risk_criterion = [max(row) for row in sub_table]\n",
    "savage_minimax_risk_criterion"
   ]
  },
  {
   "cell_type": "markdown",
   "metadata": {},
   "source": [
    "## На основании него выигрышной стратегией является закупка 2000"
   ]
  },
  {
   "cell_type": "markdown",
   "metadata": {},
   "source": [
    "# Принятие решения на основании Критерий пессимизма-оптимизма Гурвица."
   ]
  },
  {
   "cell_type": "code",
   "execution_count": 20,
   "metadata": {
    "pycharm": {
     "name": "#%%\n"
    }
   },
   "outputs": [
    {
     "data": {
      "text/plain": [
       "[30000.0, 210000.0, 240000.0, 270000.0]"
      ]
     },
     "execution_count": 20,
     "metadata": {},
     "output_type": "execute_result"
    }
   ],
   "source": [
    "hurwitz_pessimism_optimism_criterion = [0.5 * min(row) + 0.5 * max(row) for row in table]\n",
    "hurwitz_pessimism_optimism_criterion"
   ]
  },
  {
   "cell_type": "markdown",
   "metadata": {
    "pycharm": {
     "name": "#%% md\n"
    }
   },
   "source": [
    "## На основании него выигрышной стратегией является закупка 2000"
   ]
  }
 ],
 "metadata": {
  "kernelspec": {
   "display_name": "Python 3 (ipykernel)",
   "language": "python",
   "name": "python3"
  },
  "language_info": {
   "codemirror_mode": {
    "name": "ipython",
    "version": 3
   },
   "file_extension": ".py",
   "mimetype": "text/x-python",
   "name": "python",
   "nbconvert_exporter": "python",
   "pygments_lexer": "ipython3",
   "version": "3.8.9"
  }
 },
 "nbformat": 4,
 "nbformat_minor": 1
}