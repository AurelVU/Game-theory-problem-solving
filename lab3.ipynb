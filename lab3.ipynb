{
 "cells": [
  {
   "cell_type": "markdown",
   "metadata": {},
   "source": [
    "# Введение начальных условий\n",
    "\n",
    "Ниже введены следующие обозначения:\n",
    "p - вероятности наступления спроса\n",
    "count - количество мешков с цементом\n",
    "save_price - цена за единицу при хранении\n",
    "defic_price - цена за единицу в случае возникновления дефицита"
   ]
  },
  {
   "cell_type": "code",
   "execution_count": 1,
   "metadata": {
    "collapsed": true
   },
   "outputs": [],
   "source": [
    "p = [0.2, 0.5, 0.3]\n",
    "count = [1500, 2000, 2500]\n",
    "save_price = 5\n",
    "defic_price = 3"
   ]
  },
  {
   "cell_type": "markdown",
   "source": [
    "# Добавление фукнции для красивой печати матриц"
   ],
   "metadata": {
    "collapsed": false
   }
  },
  {
   "cell_type": "code",
   "execution_count": 2,
   "outputs": [],
   "source": [
    "def printA(a):\n",
    "    for row in a:\n",
    "        for col in row:\n",
    "            print(\"{:8.1f}\".format(col), end=\" \")\n",
    "        print(\"\")"
   ],
   "metadata": {
    "collapsed": false,
    "pycharm": {
     "name": "#%%\n"
    }
   }
  },
  {
   "cell_type": "markdown",
   "metadata": {},
   "source": [
    "# Составление таблицы\n",
    "По итогу получается таблица, отражающая потери при различном объеме спроса"
   ]
  },
  {
   "cell_type": "code",
   "execution_count": 3,
   "metadata": {
    "pycharm": {
     "name": "#%%\n"
    }
   },
   "outputs": [
    {
     "name": "stdout",
     "output_type": "stream",
     "text": [
      "     0.0   -500.0  -1000.0 \n",
      "  -750.0      0.0  -1250.0 \n",
      "  -900.0   -450.0      0.0 \n"
     ]
    }
   ],
   "source": [
    "table = [[0 for i in range(len(p))] for j in range(len(count))]\n",
    "for i in range(len(p)):\n",
    "    for j in range(len(count)):\n",
    "        demand = count[i] # объем спроса\n",
    "        offer = count[j] # Объем предложения\n",
    "        total_save_price = - (max(offer - demand, 0)) * save_price # затраты на хранение излишков\n",
    "        total_defic_price = - (max(demand - offer, 0)) * defic_price # упущенная прибыль при дефиците\n",
    "        table[i][j] = p[i] * (total_save_price + total_defic_price) # общие потери\n",
    "\n",
    "printA(table)"
   ]
  },
  {
   "cell_type": "markdown",
   "source": [
    "# Принятие решения на основании Критерий максимакса."
   ],
   "metadata": {
    "collapsed": false
   }
  },
  {
   "cell_type": "code",
   "execution_count": 4,
   "outputs": [
    {
     "data": {
      "text/plain": "[0.0, 0.0, 0.0]"
     },
     "execution_count": 4,
     "metadata": {},
     "output_type": "execute_result"
    }
   ],
   "source": [
    "maximum_criterion = [max(row) for row in table]\n",
    "maximum_criterion"
   ],
   "metadata": {
    "collapsed": false,
    "pycharm": {
     "name": "#%%\n"
    }
   }
  },
  {
   "cell_type": "markdown",
   "source": [
    "## На основании него невозможно определить выигрышную стратегию"
   ],
   "metadata": {
    "collapsed": false
   }
  },
  {
   "cell_type": "markdown",
   "source": [
    "# Принятие решение на основании Максиминный критерий Вальда."
   ],
   "metadata": {
    "collapsed": false
   }
  },
  {
   "cell_type": "code",
   "execution_count": 5,
   "outputs": [
    {
     "data": {
      "text/plain": "[-1000.0, -1250.0, -900.0]"
     },
     "execution_count": 5,
     "metadata": {},
     "output_type": "execute_result"
    }
   ],
   "source": [
    "maximin_wald_test = [min(row) for row in table]\n",
    "maximin_wald_test"
   ],
   "metadata": {
    "collapsed": false,
    "pycharm": {
     "name": "#%%\n"
    }
   }
  },
  {
   "cell_type": "markdown",
   "source": [
    "## На основании него выигрышной стратегией является закупка 2500 т.к. наибольший среди наименьших выигрышей появляется в 3 случае и равен -900"
   ],
   "metadata": {
    "collapsed": false
   }
  },
  {
   "cell_type": "markdown",
   "source": [
    "# Принятие решение на основании Критерий минимаксного риска Сэвиджа."
   ],
   "metadata": {
    "collapsed": false
   }
  },
  {
   "cell_type": "code",
   "execution_count": 6,
   "outputs": [
    {
     "name": "stdout",
     "output_type": "stream",
     "text": [
      "Матрица рисков\n",
      "     0.0    500.0   1000.0 \n",
      "   750.0      0.0   1250.0 \n",
      "   900.0    450.0      0.0 \n"
     ]
    },
    {
     "data": {
      "text/plain": "[1000.0, 1250.0, 900.0]"
     },
     "execution_count": 6,
     "metadata": {},
     "output_type": "execute_result"
    }
   ],
   "source": [
    "b = [max(row) for row in table]\n",
    "sub_table = [[b[j] - table[i][j] for j in range(len(table))] for i in range(len(table))]\n",
    "print('Матрица рисков')\n",
    "printA(sub_table)\n",
    "savage_minimax_risk_criterion = [max(row) for row in sub_table]\n",
    "savage_minimax_risk_criterion"
   ],
   "metadata": {
    "collapsed": false,
    "pycharm": {
     "name": "#%%\n"
    }
   }
  },
  {
   "cell_type": "markdown",
   "source": [
    "## На основании него выигрышной стратегией является закупка 2500 т.к. при ней достигается наименьший уровень риска 900"
   ],
   "metadata": {
    "collapsed": false
   }
  },
  {
   "cell_type": "markdown",
   "source": [
    "# Принятие решения на основании Критерий пессимизма-оптимизма Гурвица."
   ],
   "metadata": {
    "collapsed": false
   }
  },
  {
   "cell_type": "code",
   "execution_count": 7,
   "outputs": [
    {
     "data": {
      "text/plain": "[-500.0, -625.0, -450.0]"
     },
     "execution_count": 7,
     "metadata": {},
     "output_type": "execute_result"
    }
   ],
   "source": [
    "hurwitz_pessimism_optimism_criterion = [0.5 * min(row) + 0.5 * max(row) for row in table]\n",
    "hurwitz_pessimism_optimism_criterion"
   ],
   "metadata": {
    "collapsed": false,
    "pycharm": {
     "name": "#%%\n"
    }
   }
  },
  {
   "cell_type": "markdown",
   "source": [
    "## На основании него выигрышной стратегией является закупка 2000 т.к. при этом достигается наименьшее значение -625"
   ],
   "metadata": {
    "collapsed": false
   }
  },
  {
   "cell_type": "markdown",
   "metadata": {},
   "source": [
    "# Принятие решение на основании риска"
   ]
  },
  {
   "cell_type": "code",
   "execution_count": 8,
   "metadata": {
    "pycharm": {
     "name": "#%%\n"
    }
   },
   "outputs": [
    {
     "data": {
      "text/plain": "[-1500.0, -2000.0, -1350.0]"
     },
     "execution_count": 8,
     "metadata": {},
     "output_type": "execute_result"
    }
   ],
   "source": [
    "result = [sum(row) for row in table]\n",
    "result"
   ]
  },
  {
   "cell_type": "markdown",
   "metadata": {},
   "source": [
    "## На основании этого можно говорить, что выигрышная стратегия - третья"
   ]
  },
  {
   "cell_type": "markdown",
   "metadata": {},
   "source": [
    "# Ввод начальных значений\n",
    "Ниже введены следующие обозначения:\n",
    "people_stream - поток людей\n",
    "price - стоимость услуги\n",
    "lost_men_price - потери, связаные с потерей посетителя\n",
    "prostoi_price - потери, связаные с простоем работника"
   ]
  },
  {
   "cell_type": "code",
   "execution_count": 9,
   "metadata": {
    "pycharm": {
     "name": "#%%\n"
    }
   },
   "outputs": [],
   "source": [
    "people_stream = [2000, 4000, 6000, 8000]\n",
    "price = 90\n",
    "lost_men_price = 50\n",
    "prostoi_price = 60"
   ]
  },
  {
   "cell_type": "markdown",
   "metadata": {},
   "source": [
    "# Генерация таблицы"
   ]
  },
  {
   "cell_type": "code",
   "execution_count": 10,
   "metadata": {
    "pycharm": {
     "name": "#%%\n"
    }
   },
   "outputs": [
    {
     "name": "stdout",
     "output_type": "stream",
     "text": [
      "180000.0  80000.0 -20000.0 -120000.0 \n",
      " 60000.0 360000.0 260000.0 160000.0 \n",
      "-60000.0 240000.0 540000.0 440000.0 \n",
      "-180000.0 120000.0 420000.0 720000.0 \n"
     ]
    }
   ],
   "source": [
    "table = [[0 for i in range(len(people_stream))] for j in range(len(people_stream))]\n",
    "for i in range(len(table)):\n",
    "    for j in range(len(table[i])):\n",
    "        prishlo = people_stream[j] # количество людей, пришедших на ремонт\n",
    "        dumali = people_stream[i] # ожидаемый поток клиентов\n",
    "        lost = max(prishlo - dumali, 0) # количество людей, которых мы не смогли обслужить\n",
    "        prostoi = max(dumali - prishlo, 0) # количество простоя\n",
    "        viruchka = min(dumali, prishlo) * price # выручка\n",
    "        poteri = lost * lost_men_price + prostoi * prostoi_price # потери от необслуженных клиентов и простоя\n",
    "        table[i][j] = viruchka - poteri # прибыль\n",
    "\n",
    "printA(table)"
   ]
  },
  {
   "cell_type": "markdown",
   "metadata": {},
   "source": [
    "# Принятие решения на основании Критерий максимакса."
   ]
  },
  {
   "cell_type": "code",
   "execution_count": 11,
   "metadata": {
    "pycharm": {
     "name": "#%%\n"
    }
   },
   "outputs": [
    {
     "data": {
      "text/plain": "[180000, 360000, 540000, 720000]"
     },
     "execution_count": 11,
     "metadata": {},
     "output_type": "execute_result"
    }
   ],
   "source": [
    "maximum_criterion = [max(row) for row in table]\n",
    "maximum_criterion"
   ]
  },
  {
   "cell_type": "markdown",
   "metadata": {},
   "source": [
    "## На основании него выигрышной стратегией является закупка 8000, т.к. максимальный выигрыш достигается в 4 случае и равен 720000"
   ]
  },
  {
   "cell_type": "markdown",
   "metadata": {},
   "source": [
    "# Принятие решение на основании Максиминный критерий Вальда."
   ]
  },
  {
   "cell_type": "code",
   "execution_count": 12,
   "metadata": {
    "pycharm": {
     "name": "#%%\n"
    }
   },
   "outputs": [
    {
     "data": {
      "text/plain": "[-120000, 60000, -60000, -180000]"
     },
     "execution_count": 12,
     "metadata": {},
     "output_type": "execute_result"
    }
   ],
   "source": [
    "maximin_wald_test = [min(row) for row in table]\n",
    "maximin_wald_test"
   ]
  },
  {
   "cell_type": "markdown",
   "metadata": {},
   "source": [
    "## На основании него выигрышной стратегией является закупка 4000 т.к. наибольший среди наименьших выигрышей появляется во 2 случае и равен 60000"
   ]
  },
  {
   "cell_type": "markdown",
   "metadata": {},
   "source": [
    "# Принятие решение на основании Критерий минимаксного риска Сэвиджа."
   ]
  },
  {
   "cell_type": "code",
   "execution_count": 13,
   "metadata": {
    "pycharm": {
     "name": "#%%\n"
    }
   },
   "outputs": [
    {
     "name": "stdout",
     "output_type": "stream",
     "text": [
      "Матрица рисков\n",
      "     0.0 280000.0 560000.0 840000.0 \n",
      "120000.0      0.0 280000.0 560000.0 \n",
      "240000.0 120000.0      0.0 280000.0 \n",
      "360000.0 240000.0 120000.0      0.0 \n"
     ]
    },
    {
     "data": {
      "text/plain": "[840000, 560000, 280000, 360000]"
     },
     "execution_count": 13,
     "metadata": {},
     "output_type": "execute_result"
    }
   ],
   "source": [
    "b = [max(row) for row in table]\n",
    "sub_table = [[b[j] - table[i][j] for j in range(len(table))] for i in range(len(table))]\n",
    "print('Матрица рисков')\n",
    "printA(sub_table)\n",
    "savage_minimax_risk_criterion = [max(row) for row in sub_table]\n",
    "savage_minimax_risk_criterion"
   ]
  },
  {
   "cell_type": "markdown",
   "metadata": {},
   "source": [
    "## На основании него выигрышной стратегией является закупка 6000 т.к. при ней достигается наименьший уровень риска 280000"
   ]
  },
  {
   "cell_type": "markdown",
   "metadata": {},
   "source": [
    "# Принятие решения на основании Критерий пессимизма-оптимизма Гурвица."
   ]
  },
  {
   "cell_type": "code",
   "execution_count": 14,
   "metadata": {
    "pycharm": {
     "name": "#%%\n"
    }
   },
   "outputs": [
    {
     "data": {
      "text/plain": "[30000.0, 210000.0, 240000.0, 270000.0]"
     },
     "execution_count": 14,
     "metadata": {},
     "output_type": "execute_result"
    }
   ],
   "source": [
    "hurwitz_pessimism_optimism_criterion = [0.5 * min(row) + 0.5 * max(row) for row in table]\n",
    "hurwitz_pessimism_optimism_criterion"
   ]
  },
  {
   "cell_type": "markdown",
   "metadata": {
    "pycharm": {
     "name": "#%% md\n"
    }
   },
   "source": [
    "## На основании него выигрышной стратегией является закупка 2000 т.к. при этом достигается наименьшее значение 30000"
   ]
  }
 ],
 "metadata": {
  "kernelspec": {
   "display_name": "Python 3 (ipykernel)",
   "language": "python",
   "name": "python3"
  },
  "language_info": {
   "codemirror_mode": {
    "name": "ipython",
    "version": 3
   },
   "file_extension": ".py",
   "mimetype": "text/x-python",
   "name": "python",
   "nbconvert_exporter": "python",
   "pygments_lexer": "ipython3",
   "version": "3.8.9"
  }
 },
 "nbformat": 4,
 "nbformat_minor": 1
}